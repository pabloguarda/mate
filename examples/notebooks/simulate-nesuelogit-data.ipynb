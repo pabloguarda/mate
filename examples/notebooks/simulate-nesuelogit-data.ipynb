{
 "cells": [
  {
   "cell_type": "markdown",
   "metadata": {},
   "source": [
    "## Setup"
   ]
  },
  {
   "cell_type": "code",
   "execution_count": 1,
   "metadata": {},
   "outputs": [],
   "source": [
    "import os\n",
    "import sys\n",
    "from pathlib import Path\n",
    "import random\n",
    "import numpy as np\n",
    "import pandas as pd\n",
    "import tensorflow as tf\n",
    "\n",
    "from pesuelogit.networks import build_tntp_network\n",
    "from pesuelogit.etl import get_design_tensor, add_period_id"
   ]
  },
  {
   "cell_type": "code",
   "execution_count": 2,
   "metadata": {},
   "outputs": [
    {
     "name": "stdout",
     "output_type": "stream",
     "text": [
      "main dir: /Users/pablo/github/mate\n"
     ]
    }
   ],
   "source": [
    "# Path management\n",
    "main_dir = str(Path(os.path.abspath('')).parents[1])\n",
    "os.chdir(main_dir)\n",
    "print('main dir:', main_dir)\n",
    "\n",
    "sys.path.append(os.path.join(main_dir, 'src'))"
   ]
  },
  {
   "cell_type": "code",
   "execution_count": 3,
   "metadata": {},
   "outputs": [],
   "source": [
    "%load_ext autoreload\n",
    "%autoreload 2\n",
    "\n",
    "# Internal modules\n",
    "from mate.models import UtilityParameters, create_suelogit, compute_generation_factors\n",
    "from mate.utils import load_k_shortest_paths\n",
    "from mate.experiments import simulate_features, simulate_mate_data\n",
    "from mate.etl import read_tntp_od"
   ]
  },
  {
   "cell_type": "code",
   "execution_count": 4,
   "metadata": {
    "collapsed": false
   },
   "outputs": [],
   "source": [
    "# Seed for reproducibility\n",
    "_SEED = 2024\n",
    "np.random.seed(_SEED)\n",
    "random.seed(_SEED)\n",
    "tf.random.set_seed(_SEED)"
   ]
  },
  {
   "cell_type": "markdown",
   "metadata": {
    "collapsed": false
   },
   "source": [
    "## Build network"
   ]
  },
  {
   "cell_type": "code",
   "execution_count": 5,
   "metadata": {
    "collapsed": false
   },
   "outputs": [],
   "source": [
    "network_name = 'SiouxFalls'\n",
    "network = build_tntp_network(network_name=network_name, folderpath=os.getcwd() + \"/input/tntp/\")"
   ]
  },
  {
   "cell_type": "markdown",
   "metadata": {
    "collapsed": false
   },
   "source": [
    "## Read and load OD matrix"
   ]
  },
  {
   "cell_type": "code",
   "execution_count": 6,
   "metadata": {
    "collapsed": false
   },
   "outputs": [
    {
     "name": "stdout",
     "output_type": "stream",
     "text": [
      "Reading Q from external file\n",
      "Matrix Q (24, 24) read in 0.1[s]                        \n",
      "\n",
      "360600.0 trips were loaded among 528 o-d pairs\n"
     ]
    }
   ],
   "source": [
    "# Load true demand matrix\n",
    "Q = read_tntp_od(network_name=network_name, folderpath=os.getcwd() + \"/input/tntp/\")\n",
    "network.load_OD(Q=Q)\n",
    "\n",
    "# Dense representation of O-D matrix by period\n",
    "q_true = tf.stack([network.OD.q_true.flatten(), 0.8*network.OD.q_true.flatten()], axis = 0)\n",
    "# Note: # Data from period 2 is generated with OD matrix that is 0.8 times the true OD for that period"
   ]
  },
  {
   "cell_type": "markdown",
   "metadata": {
    "collapsed": false
   },
   "source": [
    "## Generate paths"
   ]
  },
  {
   "cell_type": "code",
   "execution_count": 7,
   "metadata": {
    "collapsed": false
   },
   "outputs": [
    {
     "name": "stdout",
     "output_type": "stream",
     "text": [
      "1584 paths were loaded and incidence matrices were built\n"
     ]
    }
   ],
   "source": [
    "load_k_shortest_paths(network=network, k=3, update_incidence_matrices=True)"
   ]
  },
  {
   "cell_type": "markdown",
   "metadata": {
    "collapsed": false
   },
   "source": [
    "## Utility function"
   ]
  },
  {
   "cell_type": "code",
   "execution_count": 8,
   "metadata": {
    "collapsed": false
   },
   "outputs": [],
   "source": [
    "#Exogenous features of the utility function\n",
    "_FEATURES_Z = ['tt_sd', 's']\n",
    "\n",
    "utility_function = UtilityParameters(features_Y=['tt'],\n",
    "                                     features_Z=_FEATURES_Z,\n",
    "                                     true_values={'tt': -1, 'tt_sd': -1.3, 's': -3},\n",
    "                                     initial_values={'tt': -1, 'tt_sd': -1.3, 's': -3},\n",
    "                                     dtype = tf.float32\n",
    "                                     )"
   ]
  },
  {
   "cell_type": "markdown",
   "metadata": {
    "collapsed": false
   },
   "source": [
    "## Simulation"
   ]
  },
  {
   "cell_type": "code",
   "execution_count": 9,
   "metadata": {},
   "outputs": [],
   "source": [
    "\n",
    "# Generate node data\n",
    "node_data = pd.DataFrame({'key': [node.key for node in network.nodes],\n",
    "                          'income': np.random.rand(len(network.nodes)),\n",
    "                          'population': np.random.rand(len(network.nodes))\n",
    "                          })"
   ]
  },
  {
   "cell_type": "code",
   "execution_count": 10,
   "metadata": {
    "collapsed": false
   },
   "outputs": [],
   "source": [
    "# Generate link-specific data\n",
    "n_observations = 300\n",
    "\n",
    "df = simulate_features(links=network.links,\n",
    "                       features_Z=_FEATURES_Z,\n",
    "                       option='continuous',\n",
    "                       time_variation=False,\n",
    "                       range=(0, 1),\n",
    "                       n_days = n_observations)\n",
    "\n",
    "# Note: The value of the exogenous attributes varies between links but not between days"
   ]
  },
  {
   "cell_type": "code",
   "execution_count": 11,
   "metadata": {
    "collapsed": false
   },
   "outputs": [
    {
     "name": "stdout",
     "output_type": "stream",
     "text": [
      "   period  period_id\n",
      "0       1          0\n",
      "1       2          1\n"
     ]
    }
   ],
   "source": [
    "df['period'] = 1\n",
    "df.loc[df.timepoint >= int(2/3*n_observations), 'period'] = 2\n",
    "\n",
    "df = add_period_id(df, period_feature='period')\n",
    "\n",
    "period_keys = df[['period', 'period_id']].drop_duplicates().reset_index().drop('index', axis=1).sort_values('period')\n",
    "print(period_keys)"
   ]
  },
  {
   "cell_type": "code",
   "execution_count": 12,
   "metadata": {
    "collapsed": false
   },
   "outputs": [],
   "source": [
    "X = get_design_tensor(Z=df[_FEATURES_Z + ['period_id']], n_links=len(network.links), n_timepoints=len(df['timepoint'].unique()))\n",
    "\n",
    "n_periods = len(np.unique(X[:, :, -1].numpy().flatten()))"
   ]
  },
  {
   "cell_type": "code",
   "execution_count": 13,
   "metadata": {
    "collapsed": false
   },
   "outputs": [],
   "source": [
    "model = create_suelogit(network = network,\n",
    "                        n_periods = n_periods,\n",
    "                        reference_q = q_true,\n",
    "                        features_Z = _FEATURES_Z,\n",
    "                        utility_parameters = utility_function)"
   ]
  },
  {
   "cell_type": "code",
   "execution_count": 14,
   "metadata": {
    "collapsed": false
   },
   "outputs": [
    {
     "name": "stdout",
     "output_type": "stream",
     "text": [
      "\n",
      "Computing gradient based equilibrium\n",
      "\n",
      "Model training\n",
      "\n",
      "Link flows and travel times were pretrained with single pass of traffic assignment\n",
      "\n",
      "hyperparameters loss function: {'equilibrium': 1}\n",
      "\n",
      "number of periods: 2, batch size: 1, threshold relative gap: 0.0001\n",
      "training set -> timepoints: 300, obs [t x]: nan, coverage [t x]: nan\n",
      "\n",
      "0/200: train mse=9.7e+07, avg theta = [-1.  -1.3 -3. ], avg rr = 1.30, avg theta fixed effect = 0, loss prop od=0, total trips=[3.61e+05 2.88e+05], avg alpha=0.15, avg beta=4, lambda eq=1, relative gap=0.71, train equilibrium loss=9.7e+07, time: 0.1\n",
      "\n",
      "1/200: train mse=9.1e+07, avg theta = [-1.  -1.3 -3. ], avg rr = 1.30, avg theta fixed effect = 0, loss prop od=0, total trips=[3.61e+05 2.88e+05], avg alpha=0.15, avg beta=4, lambda eq=1, relative gap=0.68, train equilibrium loss=9.1e+07, time: 3.9\n",
      "\n",
      "2/200: train mse=8.5e+07, avg theta = [-1.  -1.3 -3. ], avg rr = 1.30, avg theta fixed effect = 0, loss prop od=0, total trips=[3.61e+05 2.88e+05], avg alpha=0.15, avg beta=4, lambda eq=1, relative gap=0.65, train equilibrium loss=8.5e+07, time: 3.9\n",
      "\n",
      "3/200: train mse=8e+07, avg theta = [-1.  -1.3 -3. ], avg rr = 1.30, avg theta fixed effect = 0, loss prop od=0, total trips=[3.61e+05 2.88e+05], avg alpha=0.15, avg beta=4, lambda eq=1, relative gap=0.62, train equilibrium loss=8e+07, time: 4.2\n",
      "\n",
      "4/200: train mse=7.6e+07, avg theta = [-1.  -1.3 -3. ], avg rr = 1.30, avg theta fixed effect = 0, loss prop od=0, total trips=[3.61e+05 2.88e+05], avg alpha=0.15, avg beta=4, lambda eq=1, relative gap=0.6, train equilibrium loss=7.6e+07, time: 4.3\n",
      "\n",
      "5/200: train mse=7.1e+07, avg theta = [-1.  -1.3 -3. ], avg rr = 1.30, avg theta fixed effect = 0, loss prop od=0, total trips=[3.61e+05 2.88e+05], avg alpha=0.15, avg beta=4, lambda eq=1, relative gap=0.57, train equilibrium loss=7.1e+07, time: 4.3\n",
      "\n",
      "6/200: train mse=6.5e+07, avg theta = [-1.  -1.3 -3. ], avg rr = 1.30, avg theta fixed effect = 0, loss prop od=0, total trips=[3.61e+05 2.88e+05], avg alpha=0.15, avg beta=4, lambda eq=1, relative gap=0.53, train equilibrium loss=6.5e+07, time: 4.7\n",
      "\n",
      "7/200: train mse=6.2e+07, avg theta = [-1.  -1.3 -3. ], avg rr = 1.30, avg theta fixed effect = 0, loss prop od=0, total trips=[3.61e+05 2.88e+05], avg alpha=0.15, avg beta=4, lambda eq=1, relative gap=0.51, train equilibrium loss=6.2e+07, time: 3.9\n",
      "\n",
      "8/200: train mse=5.9e+07, avg theta = [-1.  -1.3 -3. ], avg rr = 1.30, avg theta fixed effect = 0, loss prop od=0, total trips=[3.61e+05 2.88e+05], avg alpha=0.15, avg beta=4, lambda eq=1, relative gap=0.49, train equilibrium loss=5.9e+07, time: 3.5\n",
      "\n",
      "9/200: train mse=5.1e+07, avg theta = [-1.  -1.3 -3. ], avg rr = 1.30, avg theta fixed effect = 0, loss prop od=0, total trips=[3.61e+05 2.88e+05], avg alpha=0.15, avg beta=4, lambda eq=1, relative gap=0.45, train equilibrium loss=5.1e+07, time: 3.4\n",
      "\n",
      "10/200: train mse=4.7e+07, avg theta = [-1.  -1.3 -3. ], avg rr = 1.30, avg theta fixed effect = 0, loss prop od=0, total trips=[3.61e+05 2.88e+05], avg alpha=0.15, avg beta=4, lambda eq=1, relative gap=0.43, train equilibrium loss=4.7e+07, time: 3.4\n",
      "\n",
      "11/200: train mse=4.1e+07, avg theta = [-1.  -1.3 -3. ], avg rr = 1.30, avg theta fixed effect = 0, loss prop od=0, total trips=[3.61e+05 2.88e+05], avg alpha=0.15, avg beta=4, lambda eq=1, relative gap=0.38, train equilibrium loss=4.1e+07, time: 3.4\n",
      "\n",
      "12/200: train mse=3.6e+07, avg theta = [-1.  -1.3 -3. ], avg rr = 1.30, avg theta fixed effect = 0, loss prop od=0, total trips=[3.61e+05 2.88e+05], avg alpha=0.15, avg beta=4, lambda eq=1, relative gap=0.34, train equilibrium loss=3.6e+07, time: 3.4\n",
      "\n",
      "13/200: train mse=3.4e+07, avg theta = [-1.  -1.3 -3. ], avg rr = 1.30, avg theta fixed effect = 0, loss prop od=0, total trips=[3.61e+05 2.88e+05], avg alpha=0.15, avg beta=4, lambda eq=1, relative gap=0.33, train equilibrium loss=3.4e+07, time: 3.4\n",
      "\n",
      "14/200: train mse=3e+07, avg theta = [-1.  -1.3 -3. ], avg rr = 1.30, avg theta fixed effect = 0, loss prop od=0, total trips=[3.61e+05 2.88e+05], avg alpha=0.15, avg beta=4, lambda eq=1, relative gap=0.31, train equilibrium loss=3e+07, time: 3.4\n",
      "\n",
      "15/200: train mse=2.9e+07, avg theta = [-1.  -1.3 -3. ], avg rr = 1.30, avg theta fixed effect = 0, loss prop od=0, total trips=[3.61e+05 2.88e+05], avg alpha=0.15, avg beta=4, lambda eq=1, relative gap=0.29, train equilibrium loss=2.9e+07, time: 3.4\n",
      "\n",
      "16/200: train mse=2.7e+07, avg theta = [-1.  -1.3 -3. ], avg rr = 1.30, avg theta fixed effect = 0, loss prop od=0, total trips=[3.61e+05 2.88e+05], avg alpha=0.15, avg beta=4, lambda eq=1, relative gap=0.28, train equilibrium loss=2.7e+07, time: 3.4\n",
      "\n",
      "17/200: train mse=2.5e+07, avg theta = [-1.  -1.3 -3. ], avg rr = 1.30, avg theta fixed effect = 0, loss prop od=0, total trips=[3.61e+05 2.88e+05], avg alpha=0.15, avg beta=4, lambda eq=1, relative gap=0.27, train equilibrium loss=2.5e+07, time: 3.4\n",
      "\n",
      "18/200: train mse=2.4e+07, avg theta = [-1.  -1.3 -3. ], avg rr = 1.30, avg theta fixed effect = 0, loss prop od=0, total trips=[3.61e+05 2.88e+05], avg alpha=0.15, avg beta=4, lambda eq=1, relative gap=0.26, train equilibrium loss=2.4e+07, time: 3.4\n",
      "\n",
      "19/200: train mse=2.3e+07, avg theta = [-1.  -1.3 -3. ], avg rr = 1.30, avg theta fixed effect = 0, loss prop od=0, total trips=[3.61e+05 2.88e+05], avg alpha=0.15, avg beta=4, lambda eq=1, relative gap=0.25, train equilibrium loss=2.3e+07, time: 3.4\n",
      "\n",
      "20/200: train mse=2.2e+07, avg theta = [-1.  -1.3 -3. ], avg rr = 1.30, avg theta fixed effect = 0, loss prop od=0, total trips=[3.61e+05 2.88e+05], avg alpha=0.15, avg beta=4, lambda eq=1, relative gap=0.24, train equilibrium loss=2.2e+07, time: 3.4\n",
      "\n",
      "21/200: train mse=2e+07, avg theta = [-1.  -1.3 -3. ], avg rr = 1.30, avg theta fixed effect = 0, loss prop od=0, total trips=[3.61e+05 2.88e+05], avg alpha=0.15, avg beta=4, lambda eq=1, relative gap=0.22, train equilibrium loss=2e+07, time: 3.4\n",
      "\n",
      "22/200: train mse=1.8e+07, avg theta = [-1.  -1.3 -3. ], avg rr = 1.30, avg theta fixed effect = 0, loss prop od=0, total trips=[3.61e+05 2.88e+05], avg alpha=0.15, avg beta=4, lambda eq=1, relative gap=0.21, train equilibrium loss=1.8e+07, time: 3.4\n",
      "\n",
      "23/200: train mse=1.7e+07, avg theta = [-1.  -1.3 -3. ], avg rr = 1.30, avg theta fixed effect = 0, loss prop od=0, total trips=[3.61e+05 2.88e+05], avg alpha=0.15, avg beta=4, lambda eq=1, relative gap=0.2, train equilibrium loss=1.7e+07, time: 3.4\n",
      "\n",
      "24/200: train mse=1.6e+07, avg theta = [-1.  -1.3 -3. ], avg rr = 1.30, avg theta fixed effect = 0, loss prop od=0, total trips=[3.61e+05 2.88e+05], avg alpha=0.15, avg beta=4, lambda eq=1, relative gap=0.19, train equilibrium loss=1.6e+07, time: 3.5\n",
      "\n",
      "25/200: train mse=1.6e+07, avg theta = [-1.  -1.3 -3. ], avg rr = 1.30, avg theta fixed effect = 0, loss prop od=0, total trips=[3.61e+05 2.88e+05], avg alpha=0.15, avg beta=4, lambda eq=1, relative gap=0.18, train equilibrium loss=1.6e+07, time: 3.5\n",
      "\n",
      "26/200: train mse=1.5e+07, avg theta = [-1.  -1.3 -3. ], avg rr = 1.30, avg theta fixed effect = 0, loss prop od=0, total trips=[3.61e+05 2.88e+05], avg alpha=0.15, avg beta=4, lambda eq=1, relative gap=0.17, train equilibrium loss=1.5e+07, time: 3.5\n",
      "\n",
      "27/200: train mse=1.4e+07, avg theta = [-1.  -1.3 -3. ], avg rr = 1.30, avg theta fixed effect = 0, loss prop od=0, total trips=[3.61e+05 2.88e+05], avg alpha=0.15, avg beta=4, lambda eq=1, relative gap=0.16, train equilibrium loss=1.4e+07, time: 3.4\n",
      "\n",
      "28/200: train mse=1.3e+07, avg theta = [-1.  -1.3 -3. ], avg rr = 1.30, avg theta fixed effect = 0, loss prop od=0, total trips=[3.61e+05 2.88e+05], avg alpha=0.15, avg beta=4, lambda eq=1, relative gap=0.16, train equilibrium loss=1.3e+07, time: 3.4\n",
      "\n",
      "29/200: train mse=1.3e+07, avg theta = [-1.  -1.3 -3. ], avg rr = 1.30, avg theta fixed effect = 0, loss prop od=0, total trips=[3.61e+05 2.88e+05], avg alpha=0.15, avg beta=4, lambda eq=1, relative gap=0.15, train equilibrium loss=1.3e+07, time: 3.4\n",
      "\n",
      "30/200: train mse=1.2e+07, avg theta = [-1.  -1.3 -3. ], avg rr = 1.30, avg theta fixed effect = 0, loss prop od=0, total trips=[3.61e+05 2.88e+05], avg alpha=0.15, avg beta=4, lambda eq=1, relative gap=0.14, train equilibrium loss=1.2e+07, time: 3.4\n",
      "\n",
      "31/200: train mse=1.1e+07, avg theta = [-1.  -1.3 -3. ], avg rr = 1.30, avg theta fixed effect = 0, loss prop od=0, total trips=[3.61e+05 2.88e+05], avg alpha=0.15, avg beta=4, lambda eq=1, relative gap=0.13, train equilibrium loss=1.1e+07, time: 3.4\n",
      "\n",
      "32/200: train mse=1e+07, avg theta = [-1.  -1.3 -3. ], avg rr = 1.30, avg theta fixed effect = 0, loss prop od=0, total trips=[3.61e+05 2.88e+05], avg alpha=0.15, avg beta=4, lambda eq=1, relative gap=0.12, train equilibrium loss=1e+07, time: 3.4\n",
      "\n",
      "33/200: train mse=9.5e+06, avg theta = [-1.  -1.3 -3. ], avg rr = 1.30, avg theta fixed effect = 0, loss prop od=0, total trips=[3.61e+05 2.88e+05], avg alpha=0.15, avg beta=4, lambda eq=1, relative gap=0.12, train equilibrium loss=9.5e+06, time: 3.4\n",
      "\n",
      "34/200: train mse=8.9e+06, avg theta = [-1.  -1.3 -3. ], avg rr = 1.30, avg theta fixed effect = 0, loss prop od=0, total trips=[3.61e+05 2.88e+05], avg alpha=0.15, avg beta=4, lambda eq=1, relative gap=0.11, train equilibrium loss=8.9e+06, time: 3.4\n",
      "\n",
      "35/200: train mse=8.3e+06, avg theta = [-1.  -1.3 -3. ], avg rr = 1.30, avg theta fixed effect = 0, loss prop od=0, total trips=[3.61e+05 2.88e+05], avg alpha=0.15, avg beta=4, lambda eq=1, relative gap=0.099, train equilibrium loss=8.3e+06, time: 3.4\n",
      "\n",
      "36/200: train mse=7.9e+06, avg theta = [-1.  -1.3 -3. ], avg rr = 1.30, avg theta fixed effect = 0, loss prop od=0, total trips=[3.61e+05 2.88e+05], avg alpha=0.15, avg beta=4, lambda eq=1, relative gap=0.092, train equilibrium loss=7.9e+06, time: 3.4\n",
      "\n",
      "37/200: train mse=7.3e+06, avg theta = [-1.  -1.3 -3. ], avg rr = 1.30, avg theta fixed effect = 0, loss prop od=0, total trips=[3.61e+05 2.88e+05], avg alpha=0.15, avg beta=4, lambda eq=1, relative gap=0.087, train equilibrium loss=7.3e+06, time: 3.5\n",
      "\n",
      "38/200: train mse=5.9e+06, avg theta = [-1.  -1.3 -3. ], avg rr = 1.30, avg theta fixed effect = 0, loss prop od=0, total trips=[3.61e+05 2.88e+05], avg alpha=0.15, avg beta=4, lambda eq=1, relative gap=0.082, train equilibrium loss=5.9e+06, time: 3.4\n",
      "\n",
      "39/200: train mse=5.4e+06, avg theta = [-1.  -1.3 -3. ], avg rr = 1.30, avg theta fixed effect = 0, loss prop od=0, total trips=[3.61e+05 2.88e+05], avg alpha=0.15, avg beta=4, lambda eq=1, relative gap=0.076, train equilibrium loss=5.4e+06, time: 3.4\n",
      "\n",
      "40/200: train mse=5.1e+06, avg theta = [-1.  -1.3 -3. ], avg rr = 1.30, avg theta fixed effect = 0, loss prop od=0, total trips=[3.61e+05 2.88e+05], avg alpha=0.15, avg beta=4, lambda eq=1, relative gap=0.071, train equilibrium loss=5.1e+06, time: 3.4\n",
      "\n",
      "41/200: train mse=3.1e+06, avg theta = [-1.  -1.3 -3. ], avg rr = 1.30, avg theta fixed effect = 0, loss prop od=0, total trips=[3.61e+05 2.88e+05], avg alpha=0.15, avg beta=4, lambda eq=1, relative gap=0.068, train equilibrium loss=3.1e+06, time: 3.4\n",
      "\n",
      "42/200: train mse=2.7e+06, avg theta = [-1.  -1.3 -3. ], avg rr = 1.30, avg theta fixed effect = 0, loss prop od=0, total trips=[3.61e+05 2.88e+05], avg alpha=0.15, avg beta=4, lambda eq=1, relative gap=0.062, train equilibrium loss=2.7e+06, time: 3.4\n",
      "\n",
      "43/200: train mse=2.3e+06, avg theta = [-1.  -1.3 -3. ], avg rr = 1.30, avg theta fixed effect = 0, loss prop od=0, total trips=[3.61e+05 2.88e+05], avg alpha=0.15, avg beta=4, lambda eq=1, relative gap=0.054, train equilibrium loss=2.3e+06, time: 3.5\n",
      "\n",
      "44/200: train mse=2e+06, avg theta = [-1.  -1.3 -3. ], avg rr = 1.30, avg theta fixed effect = 0, loss prop od=0, total trips=[3.61e+05 2.88e+05], avg alpha=0.15, avg beta=4, lambda eq=1, relative gap=0.048, train equilibrium loss=2e+06, time: 3.5\n",
      "\n",
      "45/200: train mse=1.3e+06, avg theta = [-1.  -1.3 -3. ], avg rr = 1.30, avg theta fixed effect = 0, loss prop od=0, total trips=[3.61e+05 2.88e+05], avg alpha=0.15, avg beta=4, lambda eq=1, relative gap=0.044, train equilibrium loss=1.3e+06, time: 3.5\n",
      "\n",
      "46/200: train mse=1.1e+06, avg theta = [-1.  -1.3 -3. ], avg rr = 1.30, avg theta fixed effect = 0, loss prop od=0, total trips=[3.61e+05 2.88e+05], avg alpha=0.15, avg beta=4, lambda eq=1, relative gap=0.04, train equilibrium loss=1.1e+06, time: 3.4\n",
      "\n",
      "47/200: train mse=9.4e+05, avg theta = [-1.  -1.3 -3. ], avg rr = 1.30, avg theta fixed effect = 0, loss prop od=0, total trips=[3.61e+05 2.88e+05], avg alpha=0.15, avg beta=4, lambda eq=1, relative gap=0.036, train equilibrium loss=9.4e+05, time: 3.4\n",
      "\n",
      "48/200: train mse=7.9e+05, avg theta = [-1.  -1.3 -3. ], avg rr = 1.30, avg theta fixed effect = 0, loss prop od=0, total trips=[3.61e+05 2.88e+05], avg alpha=0.15, avg beta=4, lambda eq=1, relative gap=0.033, train equilibrium loss=7.9e+05, time: 3.4\n",
      "\n",
      "49/200: train mse=6.3e+05, avg theta = [-1.  -1.3 -3. ], avg rr = 1.30, avg theta fixed effect = 0, loss prop od=0, total trips=[3.61e+05 2.88e+05], avg alpha=0.15, avg beta=4, lambda eq=1, relative gap=0.028, train equilibrium loss=6.3e+05, time: 3.4\n",
      "\n",
      "50/200: train mse=5.1e+05, avg theta = [-1.  -1.3 -3. ], avg rr = 1.30, avg theta fixed effect = 0, loss prop od=0, total trips=[3.61e+05 2.88e+05], avg alpha=0.15, avg beta=4, lambda eq=1, relative gap=0.023, train equilibrium loss=5.1e+05, time: 3.4\n",
      "\n",
      "51/200: train mse=3.9e+05, avg theta = [-1.  -1.3 -3. ], avg rr = 1.30, avg theta fixed effect = 0, loss prop od=0, total trips=[3.61e+05 2.88e+05], avg alpha=0.15, avg beta=4, lambda eq=1, relative gap=0.019, train equilibrium loss=3.9e+05, time: 3.4\n",
      "\n",
      "52/200: train mse=2.7e+05, avg theta = [-1.  -1.3 -3. ], avg rr = 1.30, avg theta fixed effect = 0, loss prop od=0, total trips=[3.61e+05 2.88e+05], avg alpha=0.15, avg beta=4, lambda eq=1, relative gap=0.016, train equilibrium loss=2.7e+05, time: 3.5\n",
      "\n",
      "53/200: train mse=2e+05, avg theta = [-1.  -1.3 -3. ], avg rr = 1.30, avg theta fixed effect = 0, loss prop od=0, total trips=[3.61e+05 2.88e+05], avg alpha=0.15, avg beta=4, lambda eq=1, relative gap=0.012, train equilibrium loss=2e+05, time: 3.4\n",
      "\n",
      "54/200: train mse=1.6e+05, avg theta = [-1.  -1.3 -3. ], avg rr = 1.30, avg theta fixed effect = 0, loss prop od=0, total trips=[3.61e+05 2.88e+05], avg alpha=0.15, avg beta=4, lambda eq=1, relative gap=0.0099, train equilibrium loss=1.6e+05, time: 3.4\n",
      "\n",
      "55/200: train mse=1.3e+05, avg theta = [-1.  -1.3 -3. ], avg rr = 1.30, avg theta fixed effect = 0, loss prop od=0, total trips=[3.61e+05 2.88e+05], avg alpha=0.15, avg beta=4, lambda eq=1, relative gap=0.0086, train equilibrium loss=1.3e+05, time: 3.4\n",
      "\n",
      "56/200: train mse=1e+05, avg theta = [-1.  -1.3 -3. ], avg rr = 1.30, avg theta fixed effect = 0, loss prop od=0, total trips=[3.61e+05 2.88e+05], avg alpha=0.15, avg beta=4, lambda eq=1, relative gap=0.0079, train equilibrium loss=1e+05, time: 3.4\n",
      "\n",
      "57/200: train mse=8.2e+04, avg theta = [-1.  -1.3 -3. ], avg rr = 1.30, avg theta fixed effect = 0, loss prop od=0, total trips=[3.61e+05 2.88e+05], avg alpha=0.15, avg beta=4, lambda eq=1, relative gap=0.0072, train equilibrium loss=8.2e+04, time: 3.4\n",
      "\n",
      "58/200: train mse=6.2e+04, avg theta = [-1.  -1.3 -3. ], avg rr = 1.30, avg theta fixed effect = 0, loss prop od=0, total trips=[3.61e+05 2.88e+05], avg alpha=0.15, avg beta=4, lambda eq=1, relative gap=0.0063, train equilibrium loss=6.2e+04, time: 3.4\n",
      "\n",
      "59/200: train mse=4.5e+04, avg theta = [-1.  -1.3 -3. ], avg rr = 1.30, avg theta fixed effect = 0, loss prop od=0, total trips=[3.61e+05 2.88e+05], avg alpha=0.15, avg beta=4, lambda eq=1, relative gap=0.0053, train equilibrium loss=4.5e+04, time: 3.4\n",
      "\n",
      "60/200: train mse=3.2e+04, avg theta = [-1.  -1.3 -3. ], avg rr = 1.30, avg theta fixed effect = 0, loss prop od=0, total trips=[3.61e+05 2.88e+05], avg alpha=0.15, avg beta=4, lambda eq=1, relative gap=0.0045, train equilibrium loss=3.2e+04, time: 3.4\n",
      "\n",
      "61/200: train mse=2e+04, avg theta = [-1.  -1.3 -3. ], avg rr = 1.30, avg theta fixed effect = 0, loss prop od=0, total trips=[3.61e+05 2.88e+05], avg alpha=0.15, avg beta=4, lambda eq=1, relative gap=0.0035, train equilibrium loss=2e+04, time: 3.6\n",
      "\n",
      "62/200: train mse=1.2e+04, avg theta = [-1.  -1.3 -3. ], avg rr = 1.30, avg theta fixed effect = 0, loss prop od=0, total trips=[3.61e+05 2.88e+05], avg alpha=0.15, avg beta=4, lambda eq=1, relative gap=0.0028, train equilibrium loss=1.2e+04, time: 3.5\n",
      "\n",
      "63/200: train mse=6.3e+03, avg theta = [-1.  -1.3 -3. ], avg rr = 1.30, avg theta fixed effect = 0, loss prop od=0, total trips=[3.61e+05 2.88e+05], avg alpha=0.15, avg beta=4, lambda eq=1, relative gap=0.002, train equilibrium loss=6.3e+03, time: 3.4\n",
      "\n",
      "64/200: train mse=2.7e+03, avg theta = [-1.  -1.3 -3. ], avg rr = 1.30, avg theta fixed effect = 0, loss prop od=0, total trips=[3.61e+05 2.88e+05], avg alpha=0.15, avg beta=4, lambda eq=1, relative gap=0.0014, train equilibrium loss=2.7e+03, time: 3.4\n",
      "\n",
      "65/200: train mse=7.5e+02, avg theta = [-1.  -1.3 -3. ], avg rr = 1.30, avg theta fixed effect = 0, loss prop od=0, total trips=[3.61e+05 2.88e+05], avg alpha=0.15, avg beta=4, lambda eq=1, relative gap=0.00068, train equilibrium loss=7.5e+02, time: 3.4\n",
      "\n",
      "66/200: train mse=60, avg theta = [-1.  -1.3 -3. ], avg rr = 1.30, avg theta fixed effect = 0, loss prop od=0, total trips=[3.61e+05 2.88e+05], avg alpha=0.15, avg beta=4, lambda eq=1, relative gap=0.00027, train equilibrium loss=60, time: 3.4\n",
      "\n",
      "67/200: train mse=1.3e+02, avg theta = [-1.  -1.3 -3. ], avg rr = 1.30, avg theta fixed effect = 0, loss prop od=0, total trips=[3.61e+05 2.88e+05], avg alpha=0.15, avg beta=4, lambda eq=1, relative gap=0.00048, train equilibrium loss=1.3e+02, time: 3.3\n",
      "\n",
      "68/200: train mse=25, avg theta = [-1.  -1.3 -3. ], avg rr = 1.30, avg theta fixed effect = 0, loss prop od=0, total trips=[3.61e+05 2.88e+05], avg alpha=0.15, avg beta=4, lambda eq=1, relative gap=0.00031, train equilibrium loss=25, time: 3.4\n",
      "\n",
      "69/200: train mse=1.4e+02, avg theta = [-1.  -1.3 -3. ], avg rr = 1.30, avg theta fixed effect = 0, loss prop od=0, total trips=[3.61e+05 2.88e+05], avg alpha=0.15, avg beta=4, lambda eq=1, relative gap=0.0005, train equilibrium loss=1.4e+02, time: 3.4\n",
      "\n",
      "70/200: train mse=70, avg theta = [-1.  -1.3 -3. ], avg rr = 1.30, avg theta fixed effect = 0, loss prop od=0, total trips=[3.61e+05 2.88e+05], avg alpha=0.15, avg beta=4, lambda eq=1, relative gap=0.00045, train equilibrium loss=70, time: 3.4\n",
      "\n",
      "71/200: train mse=6.9, avg theta = [-1.  -1.3 -3. ], avg rr = 1.30, avg theta fixed effect = 0, loss prop od=0, total trips=[3.61e+05 2.88e+05], avg alpha=0.15, avg beta=4, lambda eq=1, relative gap=0.00016, train equilibrium loss=6.9, time: 3.4\n",
      "\n",
      "72/200: train mse=11, avg theta = [-1.  -1.3 -3. ], avg rr = 1.30, avg theta fixed effect = 0, loss prop od=0, total trips=[3.61e+05 2.88e+05], avg alpha=0.15, avg beta=4, lambda eq=1, relative gap=0.00015, train equilibrium loss=11, time: 3.4\n",
      "\n",
      "73/200: train mse=19, avg theta = [-1.  -1.3 -3. ], avg rr = 1.30, avg theta fixed effect = 0, loss prop od=0, total trips=[3.61e+05 2.88e+05], avg alpha=0.15, avg beta=4, lambda eq=1, relative gap=0.00022, train equilibrium loss=19, time: 3.4\n",
      "\n",
      "74/200: train mse=11, avg theta = [-1.  -1.3 -3. ], avg rr = 1.30, avg theta fixed effect = 0, loss prop od=0, total trips=[3.61e+05 2.88e+05], avg alpha=0.15, avg beta=4, lambda eq=1, relative gap=0.0002, train equilibrium loss=11, time: 3.5\n",
      "\n",
      "75/200: train mse=3.7, avg theta = [-1.  -1.3 -3. ], avg rr = 1.30, avg theta fixed effect = 0, loss prop od=0, total trips=[3.61e+05 2.88e+05], avg alpha=0.15, avg beta=4, lambda eq=1, relative gap=0.00012, train equilibrium loss=3.7, time: 3.4\n",
      "\n",
      "76/200: train mse=9.6, avg theta = [-1.  -1.3 -3. ], avg rr = 1.30, avg theta fixed effect = 0, loss prop od=0, total trips=[3.61e+05 2.88e+05], avg alpha=0.15, avg beta=4, lambda eq=1, relative gap=0.00021, train equilibrium loss=9.6, time: 3.4\n",
      "\n",
      "77/200: train mse=34, avg theta = [-1.  -1.3 -3. ], avg rr = 1.30, avg theta fixed effect = 0, loss prop od=0, total trips=[3.61e+05 2.88e+05], avg alpha=0.15, avg beta=4, lambda eq=1, relative gap=0.00025, train equilibrium loss=34, time: 3.4\n",
      "\n",
      "78/200: train mse=6.2, avg theta = [-1.  -1.3 -3. ], avg rr = 1.30, avg theta fixed effect = 0, loss prop od=0, total trips=[3.61e+05 2.88e+05], avg alpha=0.15, avg beta=4, lambda eq=1, relative gap=0.00014, train equilibrium loss=6.2, time: 3.4\n",
      "\n",
      "79/200: train mse=24, avg theta = [-1.  -1.3 -3. ], avg rr = 1.30, avg theta fixed effect = 0, loss prop od=0, total trips=[3.61e+05 2.88e+05], avg alpha=0.15, avg beta=4, lambda eq=1, relative gap=0.00033, train equilibrium loss=24, time: 3.4\n",
      "\n",
      "80/200: train mse=10, avg theta = [-1.  -1.3 -3. ], avg rr = 1.30, avg theta fixed effect = 0, loss prop od=0, total trips=[3.61e+05 2.88e+05], avg alpha=0.15, avg beta=4, lambda eq=1, relative gap=0.00023, train equilibrium loss=10, time: 3.3\n",
      "\n",
      "81/200: train mse=21, avg theta = [-1.  -1.3 -3. ], avg rr = 1.30, avg theta fixed effect = 0, loss prop od=0, total trips=[3.61e+05 2.88e+05], avg alpha=0.15, avg beta=4, lambda eq=1, relative gap=0.00019, train equilibrium loss=21, time: 3.5\n",
      "\n",
      "82/200: train mse=2.7, avg theta = [-1.  -1.3 -3. ], avg rr = 1.30, avg theta fixed effect = 0, loss prop od=0, total trips=[3.61e+05 2.88e+05], avg alpha=0.15, avg beta=4, lambda eq=1, relative gap=0.00011, train equilibrium loss=2.7, time: 3.4\n",
      "\n",
      "83/200: train mse=6.5, avg theta = [-1.  -1.3 -3. ], avg rr = 1.30, avg theta fixed effect = 0, loss prop od=0, total trips=[3.61e+05 2.88e+05], avg alpha=0.15, avg beta=4, lambda eq=1, relative gap=0.00018, train equilibrium loss=6.5, time: 3.4\n",
      "\n",
      "84/200: train mse=81, avg theta = [-1.  -1.3 -3. ], avg rr = 1.30, avg theta fixed effect = 0, loss prop od=0, total trips=[3.61e+05 2.88e+05], avg alpha=0.15, avg beta=4, lambda eq=1, relative gap=0.00052, train equilibrium loss=81, time: 3.4\n",
      "\n",
      "85/200: train mse=2.9, avg theta = [-1.  -1.3 -3. ], avg rr = 1.30, avg theta fixed effect = 0, loss prop od=0, total trips=[3.61e+05 2.88e+05], avg alpha=0.15, avg beta=4, lambda eq=1, relative gap=8.2e-05, train equilibrium loss=2.9, time: 3.4\n",
      "\n",
      "Relative gap threshold of 0.0001 was achieved in equilibrium stage\n"
     ]
    }
   ],
   "source": [
    "# Generation of spatio-temporal data in multiple periods\n",
    "\n",
    "Y = simulate_mate_data(\n",
    "    model = model,\n",
    "    X = X,\n",
    "    batch_size=1,\n",
    "    # loss_metric=mse,\n",
    "    max_epochs=200,\n",
    "    optimizer = tf.keras.optimizers.legacy.Adam(learning_rate=5e-3),\n",
    "    threshold_relative_gap=1e-4,\n",
    "    sd_x = 0.05,\n",
    "    sd_t = 0.05,\n",
    "    # coverage = 0.75\n",
    ")"
   ]
  },
  {
   "cell_type": "code",
   "execution_count": 15,
   "metadata": {
    "collapsed": false
   },
   "outputs": [],
   "source": [
    "# Generate a pandas dataframe\n",
    "df['traveltime'], df['counts'] = tf.unstack(Y.numpy().reshape(-1, 2),axis = 1)\n",
    "\n",
    "df = df.drop('period_id', axis = 1)"
   ]
  },
  {
   "cell_type": "code",
   "execution_count": 16,
   "metadata": {
    "collapsed": false
   },
   "outputs": [
    {
     "name": "stdout",
     "output_type": "stream",
     "text": [
      "period_id\n",
      "0.0    1.000000\n",
      "1.0    0.800562\n",
      "Name: flow, dtype: float64\n"
     ]
    }
   ],
   "source": [
    "# Check if generation factors that are computed with observed link flows match the ground truth\n",
    "generation_factors = compute_generation_factors(period_column=X[:, :, -1, None].numpy(),\n",
    "                                                flow_column=Y[:, :, 1, None].numpy(), reference_period=0)\n",
    "print(generation_factors)"
   ]
  },
  {
   "cell_type": "code",
   "execution_count": 17,
   "metadata": {
    "collapsed": false
   },
   "outputs": [],
   "source": [
    "# Write file\n",
    "output_file = network.key + '-link-data.csv'\n",
    "output_dir = Path('output/network-data/' + network.key + '/links')\n",
    "output_dir.mkdir(parents=True, exist_ok=True)\n",
    "\n",
    "df.to_csv(output_dir / output_file, index=False)"
   ]
  }
 ],
 "metadata": {
  "kernelspec": {
   "display_name": "mate",
   "language": "python",
   "name": "python3"
  },
  "language_info": {
   "codemirror_mode": {
    "name": "ipython",
    "version": 3
   },
   "file_extension": ".py",
   "mimetype": "text/x-python",
   "name": "python",
   "nbconvert_exporter": "python",
   "pygments_lexer": "ipython3",
   "version": "3.10.13"
  }
 },
 "nbformat": 4,
 "nbformat_minor": 1
}
